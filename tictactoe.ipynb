{
 "cells": [
  {
   "cell_type": "code",
   "execution_count": 53,
   "id": "985200ab-2ad9-49bc-87a4-c80b7e0dfe29",
   "metadata": {},
   "outputs": [],
   "source": [
    "#TicTacToe"
   ]
  },
  {
   "cell_type": "code",
   "execution_count": 9,
   "id": "8aebbfbb-1076-4d70-9efa-534721322363",
   "metadata": {},
   "outputs": [
    {
     "name": "stdout",
     "output_type": "stream",
     "text": [
      "    |   |\n",
      " 1  | 2 | 3\n",
      "------------\n",
      "    |   |\n",
      " 4  | 5 | 6\n",
      "------------\n",
      " 7  | 8 | 9\n",
      "    |   | \n"
     ]
    }
   ],
   "source": [
    "#CONFIRMED WORKING\n",
    "\n",
    "board = ['1','2','3','4','5','6','7','8', '9']\n",
    "approved = ['1','2','3','4','5','6','7','8','9']\n",
    "\n",
    "def display(board): \n",
    "    print ('    |   |')\n",
    "    print (' ' + board[0] + '  | '+board[1]+' | '+board[2])\n",
    "    print ('------------')\n",
    "    print ('    |   |')\n",
    "    print (' ' + board[3]+'  | ' + board[4]+' | '+board[5])\n",
    "    print ('------------')\n",
    "    print (' '+board[6] + '  | ' + board[7] + ' | ' +board[8])\n",
    "    print ('    |   | ')   \n",
    "\n",
    "display(board)"
   ]
  },
  {
   "cell_type": "code",
   "execution_count": 13,
   "id": "a9b5884f-f5c4-480e-bce2-ee7a0c44a8af",
   "metadata": {},
   "outputs": [
    {
     "name": "stdin",
     "output_type": "stream",
     "text": [
      "Player 1, choose your sign, X or O? x\n"
     ]
    },
    {
     "name": "stdout",
     "output_type": "stream",
     "text": [
      "X O\n"
     ]
    }
   ],
   "source": [
    "#CONFIRMED WORKING\n",
    "\n",
    "def marker(): \n",
    "    marker = ' '\n",
    "\n",
    "    while not (marker == 'X' or marker == 'O'): \n",
    "        marker = input ('Player 1, choose your sign, X or O?').upper()\n",
    "    if marker == 'X': \n",
    "        return ('X','O')\n",
    "    else: \n",
    "        return ('O','X')\n",
    "\n",
    "p1 = ''\n",
    "p2 = ''\n",
    "p1,p2 = marker()\n",
    "print (p1,p2)"
   ]
  },
  {
   "cell_type": "code",
   "execution_count": 17,
   "id": "1c65b0f3-f676-441c-820e-ab621ada04f6",
   "metadata": {},
   "outputs": [
    {
     "name": "stdout",
     "output_type": "stream",
     "text": [
      "Player2\n"
     ]
    }
   ],
   "source": [
    "# CONFIRMED WORKING\n",
    "def goesfirst(): \n",
    "    if random.randint(0,1) == 0: \n",
    "        return 'Player1'\n",
    "    else: \n",
    "        return 'Player2'\n",
    "player = goesfirst()\n",
    "print (player)"
   ]
  },
  {
   "cell_type": "code",
   "execution_count": 37,
   "id": "095bd9d0-7aea-4f8e-bac6-ebd1d13c7dc3",
   "metadata": {},
   "outputs": [
    {
     "name": "stdin",
     "output_type": "stream",
     "text": [
      "Please choose a square from 1-9 3\n"
     ]
    },
    {
     "name": "stdout",
     "output_type": "stream",
     "text": [
      "[' ', ' ', 'X']\n"
     ]
    }
   ],
   "source": [
    "#CONFIRMED WORKING\n",
    "board = [' ',' ',' ']\n",
    "approved = ['1','2','3']\n",
    "marker = 'X'\n",
    "\n",
    "def choice (board,marker,approved): \n",
    "    selection = 'bad' \n",
    "    while selection not in approved: \n",
    "        selection = input('Please choose a square from 1-9')\n",
    "        if selection not in approved: \n",
    "            print ('That is not available, please select a square between 1-9')\n",
    "        elif board[int(selection)-1] == 'X' or board[int(selection)-1]=='O': \n",
    "            selection = ' '\n",
    "            print ('That square is taken, please choose another')\n",
    "    if board[int(selection)-1] == ' ': \n",
    "        board[int(selection)-1] = marker\n",
    "\n",
    "choice(board,marker,approved)\n",
    "print (board)"
   ]
  },
  {
   "cell_type": "code",
   "execution_count": 59,
   "id": "226357af-8a2a-44e9-b207-06e270112c5d",
   "metadata": {},
   "outputs": [
    {
     "name": "stdout",
     "output_type": "stream",
     "text": [
      "True\n"
     ]
    }
   ],
   "source": [
    "board = ['X','O','O','O','O','O','O','O','X']\n",
    "def wincheck(board,marker): \n",
    "    markerwins = False\n",
    "    if board [0] == marker and board[1]== marker and board[2] == marker:\n",
    "        markerwins = True\n",
    "    if board [3] == marker and board[4]== marker and board[5] == marker:\n",
    "        markerwins = True\n",
    "    if board [6] == marker and board[7]== marker and board[8] == marker:\n",
    "        markerwins = True\n",
    "    if board [0] == marker and board[3]== marker and board[6] == marker:\n",
    "        markerwins = True\n",
    "    if board [1] == marker and board[4]== marker and board[7] == marker:\n",
    "        markerwins = True\n",
    "    if board [2] == marker and board[5]== marker and board[8] == marker:\n",
    "        markerwins = True\n",
    "    if board [0] == marker and board[4]== marker and board[8] == marker:\n",
    "        markerwins = True\n",
    "    if board [2] == marker and board[4]== marker and board[6] == marker:\n",
    "        markerwins = True\n",
    "    return markerwins\n",
    "\n",
    "win = wincheck (board,'O')\n",
    "print (win)"
   ]
  },
  {
   "cell_type": "code",
   "execution_count": null,
   "id": "f9b76894-d9da-48cc-a572-faa7c2546900",
   "metadata": {},
   "outputs": [],
   "source": [
    "# CONFIRMED WORKING CORRECTLY\n",
    "board = ['X','X','X','X','X','X','X','X','X','X']\n",
    "#def full_board_check(board): \n",
    " #   boxesfull = True\n",
    "  #  test = ' '\n",
    "   # if test in board:  \n",
    "    #    boxesfull = False\n",
    "   # return boxesfull\n",
    "\n",
    "def full_board_check(board): \n",
    "    counter = 0\n",
    "    for box in board: \n",
    "        if box == 'X' or box == 'O': \n",
    "            counter += 1\n",
    "    if counter == len(board):\n",
    "        return True\n",
    "    else:\n",
    "        return False\n",
    "p = full_board_check(board)\n",
    "print (p)"
   ]
  },
  {
   "cell_type": "code",
   "execution_count": 71,
   "id": "0899f6cc-dc03-437e-bc89-cdadb6f1a6eb",
   "metadata": {},
   "outputs": [
    {
     "name": "stdin",
     "output_type": "stream",
     "text": [
      "would you like to play again?: y/n a\n"
     ]
    },
    {
     "name": "stdout",
     "output_type": "stream",
     "text": [
      "that is not a valid entry\n"
     ]
    },
    {
     "name": "stdin",
     "output_type": "stream",
     "text": [
      "would you like to play again?: y/n 3\n"
     ]
    },
    {
     "name": "stdout",
     "output_type": "stream",
     "text": [
      "that is not a valid entry\n"
     ]
    },
    {
     "name": "stdin",
     "output_type": "stream",
     "text": [
      "would you like to play again?: y/n n\n"
     ]
    },
    {
     "data": {
      "text/plain": [
       "False"
      ]
     },
     "execution_count": 71,
     "metadata": {},
     "output_type": "execute_result"
    }
   ],
   "source": [
    "#CONFIRMED WORKING\n",
    "def replay():\n",
    "    redo = ' '\n",
    "    while redo not in ['y','Y','n','N']: \n",
    "        redo = input('would you like to play again?: y/n')\n",
    "        if redo not in ['y','Y','n','N']: \n",
    "            print ('that is not a valid entry')\n",
    "    if redo in ['y','Y']: \n",
    "        return True\n",
    "    else:\n",
    "        return False    \n",
    "replay()"
   ]
  },
  {
   "cell_type": "code",
   "execution_count": null,
   "id": "0111ce26-2feb-406b-b5f8-a0779ad1706e",
   "metadata": {},
   "outputs": [],
   "source": [
    "  \n",
    "            "
   ]
  },
  {
   "cell_type": "markdown",
   "id": "99ab4f39-5bf2-4caf-a63f-a2404d83d3c9",
   "metadata": {},
   "source": [
    "======================================================================================================================================================="
   ]
  },
  {
   "cell_type": "code",
   "execution_count": 10,
   "id": "0f3063d1-2308-486b-8e0c-da7d8c9ba1c1",
   "metadata": {},
   "outputs": [
    {
     "name": "stdin",
     "output_type": "stream",
     "text": [
      "Player 1, choose your sign, X or O? x\n"
     ]
    },
    {
     "name": "stdout",
     "output_type": "stream",
     "text": [
      "Player1 will go first\n",
      "Player 1, your turn\n",
      "    |   |\n",
      "    |   |  \n",
      "------------\n",
      "    |   |\n",
      "    |   |  \n",
      "------------\n",
      "    |   |  \n",
      "    |   | \n"
     ]
    },
    {
     "name": "stdin",
     "output_type": "stream",
     "text": [
      "Please choose a square from 1-9 1\n"
     ]
    },
    {
     "name": "stdout",
     "output_type": "stream",
     "text": [
      "Player 2, your turn\n",
      "    |   |\n",
      " X  |   |  \n",
      "------------\n",
      "    |   |\n",
      "    |   |  \n",
      "------------\n",
      "    |   |  \n",
      "    |   | \n"
     ]
    },
    {
     "name": "stdin",
     "output_type": "stream",
     "text": [
      "Please choose a square from 1-9 2\n"
     ]
    },
    {
     "name": "stdout",
     "output_type": "stream",
     "text": [
      "Player 1, your turn\n",
      "    |   |\n",
      " X  | O |  \n",
      "------------\n",
      "    |   |\n",
      "    |   |  \n",
      "------------\n",
      "    |   |  \n",
      "    |   | \n"
     ]
    },
    {
     "name": "stdin",
     "output_type": "stream",
     "text": [
      "Please choose a square from 1-9 3\n"
     ]
    },
    {
     "name": "stdout",
     "output_type": "stream",
     "text": [
      "Player 2, your turn\n",
      "    |   |\n",
      " X  | O | X\n",
      "------------\n",
      "    |   |\n",
      "    |   |  \n",
      "------------\n",
      "    |   |  \n",
      "    |   | \n"
     ]
    },
    {
     "name": "stdin",
     "output_type": "stream",
     "text": [
      "Please choose a square from 1-9 4\n"
     ]
    },
    {
     "name": "stdout",
     "output_type": "stream",
     "text": [
      "Player 1, your turn\n",
      "    |   |\n",
      " X  | O | X\n",
      "------------\n",
      "    |   |\n",
      " O  |   |  \n",
      "------------\n",
      "    |   |  \n",
      "    |   | \n"
     ]
    },
    {
     "name": "stdin",
     "output_type": "stream",
     "text": [
      "Please choose a square from 1-9 5\n"
     ]
    },
    {
     "name": "stdout",
     "output_type": "stream",
     "text": [
      "Player 2, your turn\n",
      "    |   |\n",
      " X  | O | X\n",
      "------------\n",
      "    |   |\n",
      " O  | X |  \n",
      "------------\n",
      "    |   |  \n",
      "    |   | \n"
     ]
    },
    {
     "name": "stdin",
     "output_type": "stream",
     "text": [
      "Please choose a square from 1-9 6\n"
     ]
    },
    {
     "name": "stdout",
     "output_type": "stream",
     "text": [
      "Player 1, your turn\n",
      "    |   |\n",
      " X  | O | X\n",
      "------------\n",
      "    |   |\n",
      " O  | X | O\n",
      "------------\n",
      "    |   |  \n",
      "    |   | \n"
     ]
    },
    {
     "name": "stdin",
     "output_type": "stream",
     "text": [
      "Please choose a square from 1-9 7\n"
     ]
    },
    {
     "name": "stdout",
     "output_type": "stream",
     "text": [
      "    |   |\n",
      " X  | O | X\n",
      "------------\n",
      "    |   |\n",
      " O  | X | O\n",
      "------------\n",
      " X  |   |  \n",
      "    |   | \n",
      "Congratluations Player1, you win!\n"
     ]
    },
    {
     "name": "stdin",
     "output_type": "stream",
     "text": [
      "would you like to play again?: y/n y\n",
      "Player 1, choose your sign, X or O? x\n"
     ]
    },
    {
     "name": "stdout",
     "output_type": "stream",
     "text": [
      "Player2 will go first\n",
      "Player 2, your turn\n",
      "    |   |\n",
      "    |   |  \n",
      "------------\n",
      "    |   |\n",
      "    |   |  \n",
      "------------\n",
      "    |   |  \n",
      "    |   | \n"
     ]
    },
    {
     "name": "stdin",
     "output_type": "stream",
     "text": [
      "Please choose a square from 1-9 1\n"
     ]
    },
    {
     "name": "stdout",
     "output_type": "stream",
     "text": [
      "Player 1, your turn\n",
      "    |   |\n",
      " O  |   |  \n",
      "------------\n",
      "    |   |\n",
      "    |   |  \n",
      "------------\n",
      "    |   |  \n",
      "    |   | \n"
     ]
    },
    {
     "name": "stdin",
     "output_type": "stream",
     "text": [
      "Please choose a square from 1-9 2\n"
     ]
    },
    {
     "name": "stdout",
     "output_type": "stream",
     "text": [
      "Player 2, your turn\n",
      "    |   |\n",
      " O  | X |  \n",
      "------------\n",
      "    |   |\n",
      "    |   |  \n",
      "------------\n",
      "    |   |  \n",
      "    |   | \n"
     ]
    },
    {
     "name": "stdin",
     "output_type": "stream",
     "text": [
      "Please choose a square from 1-9 3\n"
     ]
    },
    {
     "name": "stdout",
     "output_type": "stream",
     "text": [
      "Player 1, your turn\n",
      "    |   |\n",
      " O  | X | O\n",
      "------------\n",
      "    |   |\n",
      "    |   |  \n",
      "------------\n",
      "    |   |  \n",
      "    |   | \n"
     ]
    },
    {
     "name": "stdin",
     "output_type": "stream",
     "text": [
      "Please choose a square from 1-9 4\n"
     ]
    },
    {
     "name": "stdout",
     "output_type": "stream",
     "text": [
      "Player 2, your turn\n",
      "    |   |\n",
      " O  | X | O\n",
      "------------\n",
      "    |   |\n",
      " X  |   |  \n",
      "------------\n",
      "    |   |  \n",
      "    |   | \n"
     ]
    },
    {
     "name": "stdin",
     "output_type": "stream",
     "text": [
      "Please choose a square from 1-9 5\n"
     ]
    },
    {
     "name": "stdout",
     "output_type": "stream",
     "text": [
      "Player 1, your turn\n",
      "    |   |\n",
      " O  | X | O\n",
      "------------\n",
      "    |   |\n",
      " X  | O |  \n",
      "------------\n",
      "    |   |  \n",
      "    |   | \n"
     ]
    },
    {
     "name": "stdin",
     "output_type": "stream",
     "text": [
      "Please choose a square from 1-9 6\n"
     ]
    },
    {
     "name": "stdout",
     "output_type": "stream",
     "text": [
      "Player 2, your turn\n",
      "    |   |\n",
      " O  | X | O\n",
      "------------\n",
      "    |   |\n",
      " X  | O | X\n",
      "------------\n",
      "    |   |  \n",
      "    |   | \n"
     ]
    },
    {
     "name": "stdin",
     "output_type": "stream",
     "text": [
      "Please choose a square from 1-9 7\n"
     ]
    },
    {
     "name": "stdout",
     "output_type": "stream",
     "text": [
      "    |   |\n",
      " O  | X | O\n",
      "------------\n",
      "    |   |\n",
      " X  | O | X\n",
      "------------\n",
      " O  |   |  \n",
      "    |   | \n",
      "Congratluations Player2, you win!\n"
     ]
    },
    {
     "name": "stdin",
     "output_type": "stream",
     "text": [
      "would you like to play again?: y/n n\n"
     ]
    }
   ],
   "source": [
    "#THIS IS A CORRECT,WORKING VERSION,WITHOUT THE TIE FUNCTION. SAVING SO I DON'T OVERWRITE UNNECESSARILY\n",
    "#This is following the workbook version. I'm still doing what I can on my own \n",
    "import random\n",
    "\n",
    "board = [' ',' ',' ',' ',' ',' ',' ',' ', ' ']\n",
    "approved = ['1','2','3','4','5','6','7','8','9']\n",
    "\n",
    "def display(board): \n",
    "    print ('    |   |')\n",
    "    print (' ' + board[0] + '  | '+board[1]+' | '+board[2])\n",
    "    print ('------------')\n",
    "    print ('    |   |')\n",
    "    print (' ' + board[3]+'  | ' + board[4]+' | '+board[5])\n",
    "    print ('------------')\n",
    "    print (' '+board[6] + '  | ' + board[7] + ' | ' +board[8])\n",
    "    print ('    |   | ')\n",
    "\n",
    "def marker(): \n",
    "    marker = ' '\n",
    "\n",
    "    while not (marker == 'X' or marker == 'O'): \n",
    "        marker = input ('Player 1, choose your sign, X or O?').upper()\n",
    "    if marker == 'X': \n",
    "        return ('X','O')\n",
    "    else: \n",
    "        return ('O','X')\n",
    "        \n",
    "def full_board_check(board): \n",
    "    counter = 0\n",
    "    for box in board: \n",
    "        if box == 'X' or box == 'O': \n",
    "            counter += 1\n",
    "    if counter == len(board):\n",
    "        return True\n",
    "    else:\n",
    "        return False\n",
    "    \n",
    "def goesfirst(): \n",
    "    if random.randint(0,1) == 0: \n",
    "        return 'Player1'\n",
    "    else: \n",
    "        return 'Player2'\n",
    "\n",
    "def choice (board,marker,approved): \n",
    "    selection = 'bad' \n",
    "    while selection not in approved: \n",
    "        selection = input('Please choose a square from 1-9')\n",
    "        if selection not in approved: \n",
    "            print ('That is not available, please select a square between 1-9')\n",
    "        elif board[int(selection)-1] == 'X' or board[int(selection)-1]=='O': \n",
    "            selection = ' '\n",
    "            print ('That square is taken, please choose another')\n",
    "    if board[int(selection)-1] == ' ': \n",
    "        board[int(selection)-1] = marker\n",
    "\n",
    "def wincheck(board,marker): \n",
    "    markerwins = False\n",
    "    if board [0] == marker and board[1]== marker and board[2] == marker:\n",
    "        markerwins = True\n",
    "    if board [3] == marker and board[4]== marker and board[5] == marker:\n",
    "        markerwins = True\n",
    "    if board [6] == marker and board[7]== marker and board[8] == marker:\n",
    "        markerwins = True\n",
    "    if board [0] == marker and board[3]== marker and board[6] == marker:\n",
    "        markerwins = True\n",
    "    if board [1] == marker and board[4]== marker and board[7] == marker:\n",
    "        markerwins = True\n",
    "    if board [2] == marker and board[5]== marker and board[8] == marker:\n",
    "        markerwins = True\n",
    "    if board [0] == marker and board[4]== marker and board[8] == marker:\n",
    "        markerwins = True\n",
    "    if board [2] == marker and board[4]== marker and board[6] == marker:\n",
    "        markerwins = True\n",
    "    return markerwins\n",
    " \n",
    "def replay():\n",
    "    redo = ' '\n",
    "    while redo not in ['y','Y','n','N']: \n",
    "        redo = input('would you like to play again?: y/n')\n",
    "        if redo not in ['y','Y','n','N']: \n",
    "            print ('that is not a valid entry')\n",
    "    if redo in ['y','Y']: \n",
    "        return True\n",
    "    else:\n",
    "        return False    \n",
    "        \n",
    "def game():\n",
    "    while True:\n",
    "        board = [' ']*10\n",
    "        p1m,p2m = marker()\n",
    "        turn = goesfirst()\n",
    "        print (turn + ' will go first')\n",
    "        approved = ['1','2','3','4','5','6','7','8','9']\n",
    "        gameon = True\n",
    "\n",
    "        while gameon: \n",
    "            #player 1\n",
    "            if turn == 'Player1':\n",
    "                print ('Player 1, your turn')\n",
    "                display(board)\n",
    "                choice(board,p1m,approved)\n",
    "                if wincheck(board,p1m):\n",
    "                    display(board)\n",
    "                    print ('Congratluations {}, you win!'.format(turn))\n",
    "                    gameon = False\n",
    "                    break\n",
    "                else: \n",
    "                    turn = 'Player2'\n",
    "            elif turn == 'Player2':\n",
    "                print ('Player 2, your turn')\n",
    "                display(board)\n",
    "                choice(board,p2m,approved)\n",
    "                if wincheck(board,p2m):\n",
    "                    display(board)\n",
    "                    print ('Congratluations {}, you win!'.format(turn))\n",
    "                    gameon = False\n",
    "                    break\n",
    "                else: \n",
    "                    turn = 'Player1'\n",
    "       \n",
    "                        \n",
    "                    \n",
    "        if replay():\n",
    "            gameon=True\n",
    "        else:\n",
    "            break\n",
    "game()"
   ]
  },
  {
   "cell_type": "code",
   "execution_count": null,
   "id": "5df47657-93d4-4b6a-b432-3b42600e5f21",
   "metadata": {},
   "outputs": [],
   "source": [
    "============================================================================================================================"
   ]
  },
  {
   "cell_type": "code",
   "execution_count": 8,
   "id": "a91ba354-7307-41d9-b3eb-8a34cac116a9",
   "metadata": {},
   "outputs": [
    {
     "name": "stdin",
     "output_type": "stream",
     "text": [
      "Player 1, choose your sign, X or O? x\n"
     ]
    },
    {
     "name": "stdout",
     "output_type": "stream",
     "text": [
      "Player1 will go first\n",
      "Player 1, your turn\n",
      "    |   |\n",
      "    |   |  \n",
      "------------\n",
      "    |   |\n",
      "    |   |  \n",
      "------------\n",
      "    |   |  \n",
      "    |   | \n"
     ]
    },
    {
     "name": "stdin",
     "output_type": "stream",
     "text": [
      "Please choose a square from 1-9 1\n"
     ]
    },
    {
     "name": "stdout",
     "output_type": "stream",
     "text": [
      "['1']\n",
      "Player 2, your turn\n",
      "    |   |\n",
      " X  |   |  \n",
      "------------\n",
      "    |   |\n",
      "    |   |  \n",
      "------------\n",
      "    |   |  \n",
      "    |   | \n"
     ]
    },
    {
     "name": "stdin",
     "output_type": "stream",
     "text": [
      "Please choose a square from 1-9 2\n"
     ]
    },
    {
     "name": "stdout",
     "output_type": "stream",
     "text": [
      "['1', '2']\n",
      "Player 1, your turn\n",
      "    |   |\n",
      " X  | O |  \n",
      "------------\n",
      "    |   |\n",
      "    |   |  \n",
      "------------\n",
      "    |   |  \n",
      "    |   | \n"
     ]
    },
    {
     "name": "stdin",
     "output_type": "stream",
     "text": [
      "Please choose a square from 1-9 3\n"
     ]
    },
    {
     "name": "stdout",
     "output_type": "stream",
     "text": [
      "['1', '2', '3']\n",
      "Player 2, your turn\n",
      "    |   |\n",
      " X  | O | X\n",
      "------------\n",
      "    |   |\n",
      "    |   |  \n",
      "------------\n",
      "    |   |  \n",
      "    |   | \n"
     ]
    },
    {
     "name": "stdin",
     "output_type": "stream",
     "text": [
      "Please choose a square from 1-9 4\n"
     ]
    },
    {
     "name": "stdout",
     "output_type": "stream",
     "text": [
      "['1', '2', '3', '4']\n",
      "Player 1, your turn\n",
      "    |   |\n",
      " X  | O | X\n",
      "------------\n",
      "    |   |\n",
      " O  |   |  \n",
      "------------\n",
      "    |   |  \n",
      "    |   | \n"
     ]
    },
    {
     "name": "stdin",
     "output_type": "stream",
     "text": [
      "Please choose a square from 1-9 6\n"
     ]
    },
    {
     "name": "stdout",
     "output_type": "stream",
     "text": [
      "['1', '2', '3', '4', '6']\n",
      "Player 2, your turn\n",
      "    |   |\n",
      " X  | O | X\n",
      "------------\n",
      "    |   |\n",
      " O  |   | X\n",
      "------------\n",
      "    |   |  \n",
      "    |   | \n"
     ]
    },
    {
     "name": "stdin",
     "output_type": "stream",
     "text": [
      "Please choose a square from 1-9 5\n"
     ]
    },
    {
     "name": "stdout",
     "output_type": "stream",
     "text": [
      "['1', '2', '3', '4', '6', '5']\n",
      "Player 1, your turn\n",
      "    |   |\n",
      " X  | O | X\n",
      "------------\n",
      "    |   |\n",
      " O  | O | X\n",
      "------------\n",
      "    |   |  \n",
      "    |   | \n"
     ]
    },
    {
     "name": "stdin",
     "output_type": "stream",
     "text": [
      "Please choose a square from 1-9 8\n"
     ]
    },
    {
     "name": "stdout",
     "output_type": "stream",
     "text": [
      "['1', '2', '3', '4', '6', '5', '8']\n",
      "Player 2, your turn\n",
      "    |   |\n",
      " X  | O | X\n",
      "------------\n",
      "    |   |\n",
      " O  | O | X\n",
      "------------\n",
      "    | X |  \n",
      "    |   | \n"
     ]
    },
    {
     "name": "stdin",
     "output_type": "stream",
     "text": [
      "Please choose a square from 1-9 9\n"
     ]
    },
    {
     "name": "stdout",
     "output_type": "stream",
     "text": [
      "['1', '2', '3', '4', '6', '5', '8', '9']\n",
      "Player 1, your turn\n",
      "    |   |\n",
      " X  | O | X\n",
      "------------\n",
      "    |   |\n",
      " O  | O | X\n",
      "------------\n",
      "    | X | O\n",
      "    |   | \n"
     ]
    },
    {
     "name": "stdin",
     "output_type": "stream",
     "text": [
      "Please choose a square from 1-9 7\n"
     ]
    },
    {
     "name": "stdout",
     "output_type": "stream",
     "text": [
      "['1', '2', '3', '4', '6', '5', '8', '9', '7']\n",
      "Tie!\n"
     ]
    },
    {
     "name": "stdin",
     "output_type": "stream",
     "text": [
      "would you like to play again?: y/n N\n"
     ]
    }
   ],
   "source": [
    "# SUCCEEEEESSSSSSSSSS!\n",
    "#This is following the workbook version. I'm still doing what I can on my own \n",
    "import random\n",
    "\n",
    "def display(board): \n",
    "    print ('    |   |')\n",
    "    print (' ' + board[0] + '  | '+board[1]+' | '+board[2])\n",
    "    print ('------------')\n",
    "    print ('    |   |')\n",
    "    print (' ' + board[3]+'  | ' + board[4]+' | '+board[5])\n",
    "    print ('------------')\n",
    "    print (' '+board[6] + '  | ' + board[7] + ' | ' +board[8])\n",
    "    print ('    |   | ')\n",
    "\n",
    "def marker(): \n",
    "    marker = ' '\n",
    "\n",
    "    while not (marker == 'X' or marker == 'O'): \n",
    "        marker = input ('Player 1, choose your sign, X or O?').upper()\n",
    "    if marker == 'X': \n",
    "        return ('X','O')\n",
    "    else: \n",
    "        return ('O','X')\n",
    "        \n",
    "def full_board_check(board): \n",
    "    counter = 0\n",
    "    for box in board: \n",
    "        if box == 'X' or box == 'O': \n",
    "            counter += 1\n",
    "    if counter == len(board):\n",
    "        return True\n",
    "    else:\n",
    "        return False\n",
    "    \n",
    "def goesfirst(): \n",
    "    if random.randint(0,1) == 0: \n",
    "        return 'Player1'\n",
    "    else: \n",
    "        return 'Player2'\n",
    "\n",
    "def choice (board,marker,approved,gone): \n",
    "    selection = 'bad' \n",
    "    while selection not in approved: \n",
    "        selection = input('Please choose a square from 1-9')\n",
    "        if selection not in approved: \n",
    "            print ('That is not available, please select a square between 1-9')\n",
    "        elif board[int(selection)-1] == 'X' or board[int(selection)-1]=='O': \n",
    "            selection = ' '\n",
    "            print ('That square is taken, please choose another')\n",
    "    if board[int(selection)-1] == ' ': \n",
    "        board[int(selection)-1] = marker\n",
    "        gone.append(selection)\n",
    "        \n",
    "def wincheck(board,marker): \n",
    "    markerwins = False\n",
    "    if board [0] == marker and board[1]== marker and board[2] == marker:\n",
    "        markerwins = True\n",
    "    if board [3] == marker and board[4]== marker and board[5] == marker:\n",
    "        markerwins = True\n",
    "    if board [6] == marker and board[7]== marker and board[8] == marker:\n",
    "        markerwins = True\n",
    "    if board [0] == marker and board[3]== marker and board[6] == marker:\n",
    "        markerwins = True\n",
    "    if board [1] == marker and board[4]== marker and board[7] == marker:\n",
    "        markerwins = True\n",
    "    if board [2] == marker and board[5]== marker and board[8] == marker:\n",
    "        markerwins = True\n",
    "    if board [0] == marker and board[4]== marker and board[8] == marker:\n",
    "        markerwins = True\n",
    "    if board [2] == marker and board[4]== marker and board[6] == marker:\n",
    "        markerwins = True\n",
    "    return markerwins\n",
    " \n",
    "def replay():\n",
    "    redo = ' '\n",
    "    while redo not in ['y','Y','n','N']: \n",
    "        redo = input('would you like to play again?: y/n')\n",
    "        if redo not in ['y','Y','n','N']: \n",
    "            print ('that is not a valid entry')\n",
    "    if redo in ['y','Y']: \n",
    "        return True\n",
    "    else:\n",
    "        return False    \n",
    "        \n",
    "def game():\n",
    "    while True:\n",
    "        board = [' ']*10\n",
    "        p1m,p2m = marker()\n",
    "        turn = goesfirst()\n",
    "        print (turn + ' will go first')\n",
    "        approved = ['1','2','3','4','5','6','7','8','9']\n",
    "        gone = []\n",
    "        gameon = True\n",
    "\n",
    "        while gameon: \n",
    "            #player 1\n",
    "            if turn == 'Player1':\n",
    "                print ('Player 1, your turn')\n",
    "                display(board)\n",
    "                choice(board,p1m,approved,gone)\n",
    "                \n",
    "                if wincheck(board,p1m):\n",
    "                    display(board)\n",
    "                    print ('Congratluations {}, you win!'.format(turn))\n",
    "                    gameon = False\n",
    "                    break\n",
    "                else:\n",
    "                    if len(gone)==len(approved): \n",
    "                        print ('Tie!')\n",
    "                        gameon = False\n",
    "                        break\n",
    "                    else:\n",
    "                        turn = 'Player2'\n",
    "            elif turn == 'Player2':\n",
    "                print ('Player 2, your turn')\n",
    "                display(board)\n",
    "                choice(board,p2m,approved,gone)\n",
    "                if wincheck(board,p2m):\n",
    "                    display(board)\n",
    "                    print ('Congratluations {}, you win!'.format(turn))\n",
    "                    gameon = False\n",
    "                    break\n",
    "                else:\n",
    "                    if len(gone) == len(approved): \n",
    "                        print ('Tie!')\n",
    "                        gameon = False\n",
    "                        break\n",
    "                    else:\n",
    "                        turn = 'Player1'\n",
    "       \n",
    "                        \n",
    "                    \n",
    "        if replay():\n",
    "            gameon=True\n",
    "        else:\n",
    "            break\n",
    "game()"
   ]
  },
  {
   "cell_type": "code",
   "execution_count": null,
   "id": "a109151e-749f-4c97-a6af-4a4daeafa3f3",
   "metadata": {},
   "outputs": [],
   "source": []
  }
 ],
 "metadata": {
  "kernelspec": {
   "display_name": "Python 3 (ipykernel)",
   "language": "python",
   "name": "python3"
  },
  "language_info": {
   "codemirror_mode": {
    "name": "ipython",
    "version": 3
   },
   "file_extension": ".py",
   "mimetype": "text/x-python",
   "name": "python",
   "nbconvert_exporter": "python",
   "pygments_lexer": "ipython3",
   "version": "3.12.4"
  }
 },
 "nbformat": 4,
 "nbformat_minor": 5
}
